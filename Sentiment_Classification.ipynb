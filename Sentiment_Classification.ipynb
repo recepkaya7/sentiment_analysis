{
 "cells": [
  {
   "cell_type": "code",
   "execution_count": 1,
   "metadata": {
    "execution": {
     "iopub.execute_input": "2021-11-27T13:32:26.819849Z",
     "iopub.status.busy": "2021-11-27T13:32:26.819493Z",
     "iopub.status.idle": "2021-11-27T13:32:26.958126Z",
     "shell.execute_reply": "2021-11-27T13:32:26.957173Z",
     "shell.execute_reply.started": "2021-11-27T13:32:26.819812Z"
    }
   },
   "outputs": [],
   "source": [
    "import pandas as pd\n",
    "import numpy as np\n",
    "import matplotlib.pyplot as plt\n",
    "from sklearn.feature_extraction.text import CountVectorizer\n",
    "import seaborn as sns "
   ]
  },
  {
   "cell_type": "code",
   "execution_count": 2,
   "metadata": {
    "execution": {
     "iopub.execute_input": "2021-11-27T13:32:29.233838Z",
     "iopub.status.busy": "2021-11-27T13:32:29.233519Z",
     "iopub.status.idle": "2021-11-27T13:32:30.9251Z",
     "shell.execute_reply": "2021-11-27T13:32:30.924122Z",
     "shell.execute_reply.started": "2021-11-27T13:32:29.233803Z"
    }
   },
   "outputs": [
    {
     "data": {
      "text/html": [
       "<div>\n",
       "<style scoped>\n",
       "    .dataframe tbody tr th:only-of-type {\n",
       "        vertical-align: middle;\n",
       "    }\n",
       "\n",
       "    .dataframe tbody tr th {\n",
       "        vertical-align: top;\n",
       "    }\n",
       "\n",
       "    .dataframe thead th {\n",
       "        text-align: right;\n",
       "    }\n",
       "</style>\n",
       "<table border=\"1\" class=\"dataframe\">\n",
       "  <thead>\n",
       "    <tr style=\"text-align: right;\">\n",
       "      <th></th>\n",
       "      <th>text</th>\n",
       "      <th>label</th>\n",
       "    </tr>\n",
       "  </thead>\n",
       "  <tbody>\n",
       "    <tr>\n",
       "      <th>0</th>\n",
       "      <td>I grew up (b. 1965) watching and loving the Th...</td>\n",
       "      <td>0</td>\n",
       "    </tr>\n",
       "    <tr>\n",
       "      <th>1</th>\n",
       "      <td>When I put this movie in my DVD player, and sa...</td>\n",
       "      <td>0</td>\n",
       "    </tr>\n",
       "    <tr>\n",
       "      <th>2</th>\n",
       "      <td>Why do people who do not know what a particula...</td>\n",
       "      <td>0</td>\n",
       "    </tr>\n",
       "    <tr>\n",
       "      <th>3</th>\n",
       "      <td>Even though I have great interest in Biblical ...</td>\n",
       "      <td>0</td>\n",
       "    </tr>\n",
       "    <tr>\n",
       "      <th>4</th>\n",
       "      <td>Im a die hard Dads Army fan and nothing will e...</td>\n",
       "      <td>1</td>\n",
       "    </tr>\n",
       "    <tr>\n",
       "      <th>...</th>\n",
       "      <td>...</td>\n",
       "      <td>...</td>\n",
       "    </tr>\n",
       "    <tr>\n",
       "      <th>39995</th>\n",
       "      <td>\"Western Union\" is something of a forgotten cl...</td>\n",
       "      <td>1</td>\n",
       "    </tr>\n",
       "    <tr>\n",
       "      <th>39996</th>\n",
       "      <td>This movie is an incredible piece of work. It ...</td>\n",
       "      <td>1</td>\n",
       "    </tr>\n",
       "    <tr>\n",
       "      <th>39997</th>\n",
       "      <td>My wife and I watched this movie because we pl...</td>\n",
       "      <td>0</td>\n",
       "    </tr>\n",
       "    <tr>\n",
       "      <th>39998</th>\n",
       "      <td>When I first watched Flatliners, I was amazed....</td>\n",
       "      <td>1</td>\n",
       "    </tr>\n",
       "    <tr>\n",
       "      <th>39999</th>\n",
       "      <td>Why would this film be so good, but only gross...</td>\n",
       "      <td>1</td>\n",
       "    </tr>\n",
       "  </tbody>\n",
       "</table>\n",
       "<p>40000 rows × 2 columns</p>\n",
       "</div>"
      ],
      "text/plain": [
       "                                                    text  label\n",
       "0      I grew up (b. 1965) watching and loving the Th...      0\n",
       "1      When I put this movie in my DVD player, and sa...      0\n",
       "2      Why do people who do not know what a particula...      0\n",
       "3      Even though I have great interest in Biblical ...      0\n",
       "4      Im a die hard Dads Army fan and nothing will e...      1\n",
       "...                                                  ...    ...\n",
       "39995  \"Western Union\" is something of a forgotten cl...      1\n",
       "39996  This movie is an incredible piece of work. It ...      1\n",
       "39997  My wife and I watched this movie because we pl...      0\n",
       "39998  When I first watched Flatliners, I was amazed....      1\n",
       "39999  Why would this film be so good, but only gross...      1\n",
       "\n",
       "[40000 rows x 2 columns]"
      ]
     },
     "execution_count": 2,
     "metadata": {},
     "output_type": "execute_result"
    }
   ],
   "source": [
    "data_train=pd.read_csv(\"C:/Users/yavuz/Desktop/Train.csv\")\n",
    "data_test=pd.read_csv(\"C:/Users/yavuz/Desktop/Test.csv\")\n",
    "data_train"
   ]
  },
  {
   "cell_type": "code",
   "execution_count": 3,
   "metadata": {
    "execution": {
     "iopub.execute_input": "2021-11-27T13:32:32.60639Z",
     "iopub.status.busy": "2021-11-27T13:32:32.60609Z",
     "iopub.status.idle": "2021-11-27T13:32:32.62576Z",
     "shell.execute_reply": "2021-11-27T13:32:32.624914Z",
     "shell.execute_reply.started": "2021-11-27T13:32:32.606355Z"
    }
   },
   "outputs": [
    {
     "data": {
      "text/html": [
       "<div>\n",
       "<style scoped>\n",
       "    .dataframe tbody tr th:only-of-type {\n",
       "        vertical-align: middle;\n",
       "    }\n",
       "\n",
       "    .dataframe tbody tr th {\n",
       "        vertical-align: top;\n",
       "    }\n",
       "\n",
       "    .dataframe thead th {\n",
       "        text-align: right;\n",
       "    }\n",
       "</style>\n",
       "<table border=\"1\" class=\"dataframe\">\n",
       "  <thead>\n",
       "    <tr style=\"text-align: right;\">\n",
       "      <th></th>\n",
       "      <th>text</th>\n",
       "      <th>label</th>\n",
       "    </tr>\n",
       "  </thead>\n",
       "  <tbody>\n",
       "    <tr>\n",
       "      <th>0</th>\n",
       "      <td>I grew up (b. 1965) watching and loving the Th...</td>\n",
       "      <td>0</td>\n",
       "    </tr>\n",
       "    <tr>\n",
       "      <th>1</th>\n",
       "      <td>When I put this movie in my DVD player, and sa...</td>\n",
       "      <td>0</td>\n",
       "    </tr>\n",
       "    <tr>\n",
       "      <th>2</th>\n",
       "      <td>Why do people who do not know what a particula...</td>\n",
       "      <td>0</td>\n",
       "    </tr>\n",
       "    <tr>\n",
       "      <th>3</th>\n",
       "      <td>Even though I have great interest in Biblical ...</td>\n",
       "      <td>0</td>\n",
       "    </tr>\n",
       "    <tr>\n",
       "      <th>4</th>\n",
       "      <td>Im a die hard Dads Army fan and nothing will e...</td>\n",
       "      <td>1</td>\n",
       "    </tr>\n",
       "  </tbody>\n",
       "</table>\n",
       "</div>"
      ],
      "text/plain": [
       "                                                text  label\n",
       "0  I grew up (b. 1965) watching and loving the Th...      0\n",
       "1  When I put this movie in my DVD player, and sa...      0\n",
       "2  Why do people who do not know what a particula...      0\n",
       "3  Even though I have great interest in Biblical ...      0\n",
       "4  Im a die hard Dads Army fan and nothing will e...      1"
      ]
     },
     "execution_count": 3,
     "metadata": {},
     "output_type": "execute_result"
    }
   ],
   "source": [
    "data_train.head()"
   ]
  },
  {
   "cell_type": "code",
   "execution_count": 4,
   "metadata": {
    "execution": {
     "iopub.execute_input": "2021-11-27T12:22:53.946618Z",
     "iopub.status.busy": "2021-11-27T12:22:53.946326Z",
     "iopub.status.idle": "2021-11-27T12:22:53.958008Z",
     "shell.execute_reply": "2021-11-27T12:22:53.956877Z",
     "shell.execute_reply.started": "2021-11-27T12:22:53.946585Z"
    }
   },
   "outputs": [
    {
     "data": {
      "text/html": [
       "<div>\n",
       "<style scoped>\n",
       "    .dataframe tbody tr th:only-of-type {\n",
       "        vertical-align: middle;\n",
       "    }\n",
       "\n",
       "    .dataframe tbody tr th {\n",
       "        vertical-align: top;\n",
       "    }\n",
       "\n",
       "    .dataframe thead th {\n",
       "        text-align: right;\n",
       "    }\n",
       "</style>\n",
       "<table border=\"1\" class=\"dataframe\">\n",
       "  <thead>\n",
       "    <tr style=\"text-align: right;\">\n",
       "      <th></th>\n",
       "      <th>text</th>\n",
       "      <th>label</th>\n",
       "    </tr>\n",
       "  </thead>\n",
       "  <tbody>\n",
       "    <tr>\n",
       "      <th>0</th>\n",
       "      <td>I always wrote this series off as being a comp...</td>\n",
       "      <td>0</td>\n",
       "    </tr>\n",
       "    <tr>\n",
       "      <th>1</th>\n",
       "      <td>1st watched 12/7/2002 - 3 out of 10(Dir-Steve ...</td>\n",
       "      <td>0</td>\n",
       "    </tr>\n",
       "    <tr>\n",
       "      <th>2</th>\n",
       "      <td>This movie was so poorly written and directed ...</td>\n",
       "      <td>0</td>\n",
       "    </tr>\n",
       "    <tr>\n",
       "      <th>3</th>\n",
       "      <td>The most interesting thing about Miryang (Secr...</td>\n",
       "      <td>1</td>\n",
       "    </tr>\n",
       "    <tr>\n",
       "      <th>4</th>\n",
       "      <td>when i first read about \"berlin am meer\" i did...</td>\n",
       "      <td>0</td>\n",
       "    </tr>\n",
       "  </tbody>\n",
       "</table>\n",
       "</div>"
      ],
      "text/plain": [
       "                                                text  label\n",
       "0  I always wrote this series off as being a comp...      0\n",
       "1  1st watched 12/7/2002 - 3 out of 10(Dir-Steve ...      0\n",
       "2  This movie was so poorly written and directed ...      0\n",
       "3  The most interesting thing about Miryang (Secr...      1\n",
       "4  when i first read about \"berlin am meer\" i did...      0"
      ]
     },
     "execution_count": 4,
     "metadata": {},
     "output_type": "execute_result"
    }
   ],
   "source": [
    "data_test.head()"
   ]
  },
  {
   "cell_type": "code",
   "execution_count": 5,
   "metadata": {
    "execution": {
     "iopub.execute_input": "2021-11-27T12:22:56.107257Z",
     "iopub.status.busy": "2021-11-27T12:22:56.106567Z",
     "iopub.status.idle": "2021-11-27T12:22:56.112537Z",
     "shell.execute_reply": "2021-11-27T12:22:56.111568Z",
     "shell.execute_reply.started": "2021-11-27T12:22:56.107217Z"
    }
   },
   "outputs": [
    {
     "name": "stdout",
     "output_type": "stream",
     "text": [
      "(40000, 2) (5000, 2)\n"
     ]
    }
   ],
   "source": [
    "print(data_train.shape,data_test.shape)"
   ]
  },
  {
   "cell_type": "code",
   "execution_count": 6,
   "metadata": {
    "execution": {
     "iopub.execute_input": "2021-11-27T12:23:00.516749Z",
     "iopub.status.busy": "2021-11-27T12:23:00.516213Z",
     "iopub.status.idle": "2021-11-27T12:23:00.530471Z",
     "shell.execute_reply": "2021-11-27T12:23:00.529577Z",
     "shell.execute_reply.started": "2021-11-27T12:23:00.516703Z"
    }
   },
   "outputs": [
    {
     "name": "stdout",
     "output_type": "stream",
     "text": [
      "0    20019\n",
      "1    19981\n",
      "Name: label, dtype: int64\n",
      "1    2505\n",
      "0    2495\n",
      "Name: label, dtype: int64\n"
     ]
    }
   ],
   "source": [
    "print(data_train['label'].value_counts())\n",
    "print(data_test['label'].value_counts())"
   ]
  },
  {
   "cell_type": "code",
   "execution_count": 7,
   "metadata": {
    "execution": {
     "iopub.execute_input": "2021-11-27T13:32:38.432202Z",
     "iopub.status.busy": "2021-11-27T13:32:38.431206Z",
     "iopub.status.idle": "2021-11-27T13:32:42.65663Z",
     "shell.execute_reply": "2021-11-27T13:32:42.65573Z",
     "shell.execute_reply.started": "2021-11-27T13:32:38.432152Z"
    }
   },
   "outputs": [],
   "source": [
    "import re\n",
    "def sentence_rge(data):\n",
    "    data=re.sub('<[^>]*>','',data) # Html taglerini kaldırma\n",
    "    emoji=re.findall('(?::|;|=)(?:-)?(?:\\)|\\(|D|P)',data) #Emojileri bulma\n",
    "    data=re.sub('[\\W]+',' ',data.lower()) +\\\n",
    "                ' '.join(emoji).replace('-','')\n",
    "    return data\n",
    "data_train['text']=data_train['text'].apply(sentence_rge)"
   ]
  },
  {
   "cell_type": "code",
   "execution_count": 8,
   "metadata": {
    "execution": {
     "iopub.execute_input": "2021-11-27T13:32:44.798199Z",
     "iopub.status.busy": "2021-11-27T13:32:44.797914Z",
     "iopub.status.idle": "2021-11-27T13:32:44.809404Z",
     "shell.execute_reply": "2021-11-27T13:32:44.808637Z",
     "shell.execute_reply.started": "2021-11-27T13:32:44.798169Z"
    }
   },
   "outputs": [
    {
     "data": {
      "text/html": [
       "<div>\n",
       "<style scoped>\n",
       "    .dataframe tbody tr th:only-of-type {\n",
       "        vertical-align: middle;\n",
       "    }\n",
       "\n",
       "    .dataframe tbody tr th {\n",
       "        vertical-align: top;\n",
       "    }\n",
       "\n",
       "    .dataframe thead th {\n",
       "        text-align: right;\n",
       "    }\n",
       "</style>\n",
       "<table border=\"1\" class=\"dataframe\">\n",
       "  <thead>\n",
       "    <tr style=\"text-align: right;\">\n",
       "      <th></th>\n",
       "      <th>text</th>\n",
       "      <th>label</th>\n",
       "    </tr>\n",
       "  </thead>\n",
       "  <tbody>\n",
       "    <tr>\n",
       "      <th>0</th>\n",
       "      <td>i grew up b 1965 watching and loving the thund...</td>\n",
       "      <td>0</td>\n",
       "    </tr>\n",
       "    <tr>\n",
       "      <th>1</th>\n",
       "      <td>when i put this movie in my dvd player and sat...</td>\n",
       "      <td>0</td>\n",
       "    </tr>\n",
       "    <tr>\n",
       "      <th>2</th>\n",
       "      <td>why do people who do not know what a particula...</td>\n",
       "      <td>0</td>\n",
       "    </tr>\n",
       "    <tr>\n",
       "      <th>3</th>\n",
       "      <td>even though i have great interest in biblical ...</td>\n",
       "      <td>0</td>\n",
       "    </tr>\n",
       "    <tr>\n",
       "      <th>4</th>\n",
       "      <td>im a die hard dads army fan and nothing will e...</td>\n",
       "      <td>1</td>\n",
       "    </tr>\n",
       "  </tbody>\n",
       "</table>\n",
       "</div>"
      ],
      "text/plain": [
       "                                                text  label\n",
       "0  i grew up b 1965 watching and loving the thund...      0\n",
       "1  when i put this movie in my dvd player and sat...      0\n",
       "2  why do people who do not know what a particula...      0\n",
       "3  even though i have great interest in biblical ...      0\n",
       "4  im a die hard dads army fan and nothing will e...      1"
      ]
     },
     "execution_count": 8,
     "metadata": {},
     "output_type": "execute_result"
    }
   ],
   "source": [
    "data_train.head()"
   ]
  },
  {
   "cell_type": "code",
   "execution_count": 9,
   "metadata": {
    "execution": {
     "iopub.execute_input": "2021-11-27T09:47:36.152855Z",
     "iopub.status.busy": "2021-11-27T09:47:36.152131Z",
     "iopub.status.idle": "2021-11-27T09:47:37.174765Z",
     "shell.execute_reply": "2021-11-27T09:47:37.173866Z",
     "shell.execute_reply.started": "2021-11-27T09:47:36.152801Z"
    }
   },
   "outputs": [
    {
     "data": {
      "text/html": [
       "<div>\n",
       "<style scoped>\n",
       "    .dataframe tbody tr th:only-of-type {\n",
       "        vertical-align: middle;\n",
       "    }\n",
       "\n",
       "    .dataframe tbody tr th {\n",
       "        vertical-align: top;\n",
       "    }\n",
       "\n",
       "    .dataframe thead th {\n",
       "        text-align: right;\n",
       "    }\n",
       "</style>\n",
       "<table border=\"1\" class=\"dataframe\">\n",
       "  <thead>\n",
       "    <tr style=\"text-align: right;\">\n",
       "      <th></th>\n",
       "      <th>text</th>\n",
       "      <th>label</th>\n",
       "    </tr>\n",
       "  </thead>\n",
       "  <tbody>\n",
       "    <tr>\n",
       "      <th>0</th>\n",
       "      <td>i always wrote this series off as being a comp...</td>\n",
       "      <td>0</td>\n",
       "    </tr>\n",
       "    <tr>\n",
       "      <th>1</th>\n",
       "      <td>1st watched 12 7 2002 3 out of 10 dir steve pu...</td>\n",
       "      <td>0</td>\n",
       "    </tr>\n",
       "    <tr>\n",
       "      <th>2</th>\n",
       "      <td>this movie was so poorly written and directed ...</td>\n",
       "      <td>0</td>\n",
       "    </tr>\n",
       "    <tr>\n",
       "      <th>3</th>\n",
       "      <td>the most interesting thing about miryang secre...</td>\n",
       "      <td>1</td>\n",
       "    </tr>\n",
       "    <tr>\n",
       "      <th>4</th>\n",
       "      <td>when i first read about berlin am meer i didn ...</td>\n",
       "      <td>0</td>\n",
       "    </tr>\n",
       "  </tbody>\n",
       "</table>\n",
       "</div>"
      ],
      "text/plain": [
       "                                                text  label\n",
       "0  i always wrote this series off as being a comp...      0\n",
       "1  1st watched 12 7 2002 3 out of 10 dir steve pu...      0\n",
       "2  this movie was so poorly written and directed ...      0\n",
       "3  the most interesting thing about miryang secre...      1\n",
       "4  when i first read about berlin am meer i didn ...      0"
      ]
     },
     "execution_count": 9,
     "metadata": {},
     "output_type": "execute_result"
    }
   ],
   "source": [
    "data_test['text']=data_test['text'].apply(sentence_rge)\n",
    "data_test.head()"
   ]
  },
  {
   "cell_type": "code",
   "execution_count": 10,
   "metadata": {
    "execution": {
     "iopub.execute_input": "2021-11-27T13:32:49.423295Z",
     "iopub.status.busy": "2021-11-27T13:32:49.422485Z",
     "iopub.status.idle": "2021-11-27T13:32:50.136329Z",
     "shell.execute_reply": "2021-11-27T13:32:50.134202Z",
     "shell.execute_reply.started": "2021-11-27T13:32:49.423251Z"
    }
   },
   "outputs": [
    {
     "name": "stderr",
     "output_type": "stream",
     "text": [
      "[nltk_data] Downloading package stopwords to\n",
      "[nltk_data]     C:\\Users\\yavuz\\AppData\\Roaming\\nltk_data...\n",
      "[nltk_data]   Package stopwords is already up-to-date!\n"
     ]
    }
   ],
   "source": [
    "from nltk.stem.porter import PorterStemmer\n",
    "porter=PorterStemmer()\n",
    "import nltk\n",
    "nltk.download('stopwords')\n",
    "from nltk.corpus import stopwords"
   ]
  },
  {
   "cell_type": "code",
   "execution_count": 11,
   "metadata": {
    "execution": {
     "iopub.execute_input": "2021-11-27T13:32:56.190598Z",
     "iopub.status.busy": "2021-11-27T13:32:56.189666Z",
     "iopub.status.idle": "2021-11-27T13:33:09.966017Z",
     "shell.execute_reply": "2021-11-27T13:33:09.964945Z",
     "shell.execute_reply.started": "2021-11-27T13:32:56.19055Z"
    }
   },
   "outputs": [],
   "source": [
    "stop=stopwords.words('english')\n",
    "data_train['text'] = data_train['text'].apply(lambda x: ' '.join([word for word in x.split() if word not in (stop)]))"
   ]
  },
  {
   "cell_type": "code",
   "execution_count": 12,
   "metadata": {
    "execution": {
     "iopub.execute_input": "2021-11-27T09:48:08.860641Z",
     "iopub.status.busy": "2021-11-27T09:48:08.860248Z",
     "iopub.status.idle": "2021-11-27T09:48:10.874913Z",
     "shell.execute_reply": "2021-11-27T09:48:10.873517Z",
     "shell.execute_reply.started": "2021-11-27T09:48:08.860604Z"
    }
   },
   "outputs": [],
   "source": [
    "data_test['text'] = data_test['text'].apply(lambda x: ' '.join([word for word in x.split() if word not in (stop)]))"
   ]
  },
  {
   "cell_type": "code",
   "execution_count": 13,
   "metadata": {
    "execution": {
     "iopub.execute_input": "2021-11-27T13:33:12.269531Z",
     "iopub.status.busy": "2021-11-27T13:33:12.269222Z",
     "iopub.status.idle": "2021-11-27T13:33:12.278973Z",
     "shell.execute_reply": "2021-11-27T13:33:12.277974Z",
     "shell.execute_reply.started": "2021-11-27T13:33:12.269489Z"
    }
   },
   "outputs": [
    {
     "data": {
      "text/html": [
       "<div>\n",
       "<style scoped>\n",
       "    .dataframe tbody tr th:only-of-type {\n",
       "        vertical-align: middle;\n",
       "    }\n",
       "\n",
       "    .dataframe tbody tr th {\n",
       "        vertical-align: top;\n",
       "    }\n",
       "\n",
       "    .dataframe thead th {\n",
       "        text-align: right;\n",
       "    }\n",
       "</style>\n",
       "<table border=\"1\" class=\"dataframe\">\n",
       "  <thead>\n",
       "    <tr style=\"text-align: right;\">\n",
       "      <th></th>\n",
       "      <th>text</th>\n",
       "      <th>label</th>\n",
       "    </tr>\n",
       "  </thead>\n",
       "  <tbody>\n",
       "    <tr>\n",
       "      <th>0</th>\n",
       "      <td>grew b 1965 watching loving thunderbirds mates...</td>\n",
       "      <td>0</td>\n",
       "    </tr>\n",
       "    <tr>\n",
       "      <th>1</th>\n",
       "      <td>put movie dvd player sat coke chips expectatio...</td>\n",
       "      <td>0</td>\n",
       "    </tr>\n",
       "    <tr>\n",
       "      <th>2</th>\n",
       "      <td>people know particular time past like feel nee...</td>\n",
       "      <td>0</td>\n",
       "    </tr>\n",
       "    <tr>\n",
       "      <th>3</th>\n",
       "      <td>even though great interest biblical movies bor...</td>\n",
       "      <td>0</td>\n",
       "    </tr>\n",
       "    <tr>\n",
       "      <th>4</th>\n",
       "      <td>im die hard dads army fan nothing ever change ...</td>\n",
       "      <td>1</td>\n",
       "    </tr>\n",
       "  </tbody>\n",
       "</table>\n",
       "</div>"
      ],
      "text/plain": [
       "                                                text  label\n",
       "0  grew b 1965 watching loving thunderbirds mates...      0\n",
       "1  put movie dvd player sat coke chips expectatio...      0\n",
       "2  people know particular time past like feel nee...      0\n",
       "3  even though great interest biblical movies bor...      0\n",
       "4  im die hard dads army fan nothing ever change ...      1"
      ]
     },
     "execution_count": 13,
     "metadata": {},
     "output_type": "execute_result"
    }
   ],
   "source": [
    "data_train.head()"
   ]
  },
  {
   "cell_type": "code",
   "execution_count": 14,
   "metadata": {
    "execution": {
     "iopub.execute_input": "2021-11-27T09:48:16.55885Z",
     "iopub.status.busy": "2021-11-27T09:48:16.558137Z",
     "iopub.status.idle": "2021-11-27T09:48:16.571325Z",
     "shell.execute_reply": "2021-11-27T09:48:16.570467Z",
     "shell.execute_reply.started": "2021-11-27T09:48:16.558788Z"
    }
   },
   "outputs": [
    {
     "data": {
      "text/html": [
       "<div>\n",
       "<style scoped>\n",
       "    .dataframe tbody tr th:only-of-type {\n",
       "        vertical-align: middle;\n",
       "    }\n",
       "\n",
       "    .dataframe tbody tr th {\n",
       "        vertical-align: top;\n",
       "    }\n",
       "\n",
       "    .dataframe thead th {\n",
       "        text-align: right;\n",
       "    }\n",
       "</style>\n",
       "<table border=\"1\" class=\"dataframe\">\n",
       "  <thead>\n",
       "    <tr style=\"text-align: right;\">\n",
       "      <th></th>\n",
       "      <th>text</th>\n",
       "      <th>label</th>\n",
       "    </tr>\n",
       "  </thead>\n",
       "  <tbody>\n",
       "    <tr>\n",
       "      <th>0</th>\n",
       "      <td>always wrote series complete stink fest jim be...</td>\n",
       "      <td>0</td>\n",
       "    </tr>\n",
       "    <tr>\n",
       "      <th>1</th>\n",
       "      <td>1st watched 12 7 2002 3 10 dir steve purcell t...</td>\n",
       "      <td>0</td>\n",
       "    </tr>\n",
       "    <tr>\n",
       "      <th>2</th>\n",
       "      <td>movie poorly written directed fell asleep 30 m...</td>\n",
       "      <td>0</td>\n",
       "    </tr>\n",
       "    <tr>\n",
       "      <th>3</th>\n",
       "      <td>interesting thing miryang secret sunshine acto...</td>\n",
       "      <td>1</td>\n",
       "    </tr>\n",
       "    <tr>\n",
       "      <th>4</th>\n",
       "      <td>first read berlin meer expect much thought rig...</td>\n",
       "      <td>0</td>\n",
       "    </tr>\n",
       "  </tbody>\n",
       "</table>\n",
       "</div>"
      ],
      "text/plain": [
       "                                                text  label\n",
       "0  always wrote series complete stink fest jim be...      0\n",
       "1  1st watched 12 7 2002 3 10 dir steve purcell t...      0\n",
       "2  movie poorly written directed fell asleep 30 m...      0\n",
       "3  interesting thing miryang secret sunshine acto...      1\n",
       "4  first read berlin meer expect much thought rig...      0"
      ]
     },
     "execution_count": 14,
     "metadata": {},
     "output_type": "execute_result"
    }
   ],
   "source": [
    "data_test.head()"
   ]
  },
  {
   "cell_type": "code",
   "execution_count": 15,
   "metadata": {
    "execution": {
     "iopub.execute_input": "2021-11-27T13:33:24.867405Z",
     "iopub.status.busy": "2021-11-27T13:33:24.866696Z",
     "iopub.status.idle": "2021-11-27T13:33:24.873327Z",
     "shell.execute_reply": "2021-11-27T13:33:24.871865Z",
     "shell.execute_reply.started": "2021-11-27T13:33:24.86736Z"
    }
   },
   "outputs": [],
   "source": [
    "from sklearn.feature_extraction.text import TfidfVectorizer\n",
    "tfidf=TfidfVectorizer(strip_accents=None,lowercase=False,preprocessor=None,tokenizer=None,use_idf=True,norm='l2',smooth_idf=True)"
   ]
  },
  {
   "cell_type": "code",
   "execution_count": 16,
   "metadata": {
    "execution": {
     "iopub.execute_input": "2021-11-27T13:33:28.000324Z",
     "iopub.status.busy": "2021-11-27T13:33:28.000011Z",
     "iopub.status.idle": "2021-11-27T13:33:32.516027Z",
     "shell.execute_reply": "2021-11-27T13:33:32.51519Z",
     "shell.execute_reply.started": "2021-11-27T13:33:28.000288Z"
    }
   },
   "outputs": [],
   "source": [
    "y_train=data_train.label.values\n",
    "x_train=tfidf.fit_transform(data_train.text)"
   ]
  },
  {
   "cell_type": "code",
   "execution_count": 17,
   "metadata": {
    "execution": {
     "iopub.execute_input": "2021-11-27T12:25:30.033245Z",
     "iopub.status.busy": "2021-11-27T12:25:30.032981Z",
     "iopub.status.idle": "2021-11-27T12:25:30.084714Z",
     "shell.execute_reply": "2021-11-27T12:25:30.083831Z",
     "shell.execute_reply.started": "2021-11-27T12:25:30.033218Z"
    }
   },
   "outputs": [
    {
     "name": "stdout",
     "output_type": "stream",
     "text": [
      "  (0, 44900)\t0.1167329899260501\n",
      "  (0, 28189)\t0.11724602959751664\n",
      "  (0, 40298)\t0.07213090424929314\n",
      "  (0, 80643)\t0.1817885268455725\n",
      "  (0, 72423)\t0.32180373826848974\n",
      "  (0, 39650)\t0.13406855778164398\n",
      "  (0, 51749)\t0.16347194229771606\n",
      "  (0, 69350)\t0.12715041729904114\n",
      "  (0, 1946)\t0.10451612943572032\n",
      "  (0, 52406)\t0.05409905947604153\n",
      "  (0, 69044)\t0.08450779797650514\n",
      "  (0, 14707)\t0.09205395777516626\n",
      "  (0, 71444)\t0.09320423961419629\n",
      "  (0, 88932)\t0.09443980283483847\n",
      "  (0, 30882)\t0.026486425339861275\n",
      "  (0, 91029)\t0.0663627172425901\n",
      "  (0, 39830)\t0.11107511788422718\n",
      "  (0, 17663)\t0.06191473816564423\n",
      "  (0, 89637)\t0.06499981572721934\n",
      "  (0, 14761)\t0.10349584805068139\n",
      "  (0, 23568)\t0.08092450459884172\n",
      "  (0, 37371)\t0.06965557547158012\n",
      "  (0, 32451)\t0.15495521549297164\n",
      "  (0, 44695)\t0.1817885268455725\n",
      "  (0, 19649)\t0.0816272414688598\n",
      "  :\t:\n",
      "  (39999, 47308)\t0.10791030286329532\n",
      "  (39999, 46567)\t0.20179693197342585\n",
      "  (39999, 53740)\t0.09871112570435665\n",
      "  (39999, 5620)\t0.07151294926871953\n",
      "  (39999, 49314)\t0.09019138408989587\n",
      "  (39999, 9138)\t0.06052009472777089\n",
      "  (39999, 13244)\t0.08725271615238704\n",
      "  (39999, 44620)\t0.08687543699863104\n",
      "  (39999, 72760)\t0.06289739890371253\n",
      "  (39999, 72975)\t0.06531931094929262\n",
      "  (39999, 83852)\t0.058032257238777876\n",
      "  (39999, 6797)\t0.12049248431754014\n",
      "  (39999, 39919)\t0.09546965028397628\n",
      "  (39999, 21360)\t0.08710105780560216\n",
      "  (39999, 35948)\t0.10919890526874872\n",
      "  (39999, 28600)\t0.047909402650957854\n",
      "  (39999, 91173)\t0.05592359410589993\n",
      "  (39999, 49298)\t0.06089906506583219\n",
      "  (39999, 51044)\t0.05500522762141511\n",
      "  (39999, 67909)\t0.08594958227050233\n",
      "  (39999, 77967)\t0.10343237647031242\n",
      "  (39999, 35347)\t0.04502125537800793\n",
      "  (39999, 29106)\t0.11880989335983075\n",
      "  (39999, 30882)\t0.036380191776917044\n",
      "  (39999, 92943)\t0.04868158213318694\n"
     ]
    }
   ],
   "source": [
    "print(x_train)"
   ]
  },
  {
   "cell_type": "code",
   "execution_count": 18,
   "metadata": {
    "execution": {
     "iopub.execute_input": "2021-11-27T13:33:41.379591Z",
     "iopub.status.busy": "2021-11-27T13:33:41.378887Z",
     "iopub.status.idle": "2021-11-27T13:33:41.397521Z",
     "shell.execute_reply": "2021-11-27T13:33:41.396866Z",
     "shell.execute_reply.started": "2021-11-27T13:33:41.379537Z"
    }
   },
   "outputs": [],
   "source": [
    "from sklearn.model_selection import train_test_split\n",
    "X_train,X_test,Y_train,Y_test=train_test_split(x_train,y_train,random_state=1,test_size=0.4,shuffle=False)"
   ]
  },
  {
   "cell_type": "code",
   "execution_count": 19,
   "metadata": {
    "execution": {
     "iopub.execute_input": "2021-11-27T13:33:46.400871Z",
     "iopub.status.busy": "2021-11-27T13:33:46.400169Z",
     "iopub.status.idle": "2021-11-27T13:33:46.405913Z",
     "shell.execute_reply": "2021-11-27T13:33:46.404816Z",
     "shell.execute_reply.started": "2021-11-27T13:33:46.400806Z"
    }
   },
   "outputs": [],
   "source": [
    "from sklearn import svm\n",
    "from sklearn.metrics import classification_report,accuracy_score"
   ]
  },
  {
   "cell_type": "code",
   "execution_count": null,
   "metadata": {
    "execution": {
     "iopub.execute_input": "2021-11-27T12:26:27.486746Z",
     "iopub.status.busy": "2021-11-27T12:26:27.486437Z",
     "iopub.status.idle": "2021-11-27T12:54:05.76664Z",
     "shell.execute_reply": "2021-11-27T12:54:05.765797Z",
     "shell.execute_reply.started": "2021-11-27T12:26:27.486698Z"
    },
    "scrolled": false
   },
   "outputs": [],
   "source": [
    "clf = svm.SVC()\n",
    "clf.fit(X_train,Y_train)\n",
    "Y_pred = clf.predict(X_test)\n",
    "print(\"Accuracy: \"+str(accuracy_score(Y_test, Y_pred)))\n",
    "print('\\n')\n",
    "print(classification_report(Y_test, Y_pred))"
   ]
  },
  {
   "cell_type": "code",
   "execution_count": null,
   "metadata": {
    "execution": {
     "iopub.execute_input": "2021-11-27T12:54:44.869037Z",
     "iopub.status.busy": "2021-11-27T12:54:44.868703Z",
     "iopub.status.idle": "2021-11-27T12:55:14.816998Z",
     "shell.execute_reply": "2021-11-27T12:55:14.816207Z",
     "shell.execute_reply.started": "2021-11-27T12:54:44.869003Z"
    }
   },
   "outputs": [],
   "source": [
    "from sklearn.neighbors import KNeighborsClassifier\n",
    "knn = KNeighborsClassifier(n_neighbors=10)\n",
    "knn.fit(X_train,Y_train)\n",
    "Y_pred=knn.predict(X_test)\n",
    "from sklearn.metrics import confusion_matrix, accuracy_score\n",
    "cm = confusion_matrix(Y_test, Y_pred)\n",
    "ac = accuracy_score(Y_test, Y_pred)"
   ]
  },
  {
   "cell_type": "code",
   "execution_count": null,
   "metadata": {
    "execution": {
     "iopub.execute_input": "2021-11-27T12:55:18.001756Z",
     "iopub.status.busy": "2021-11-27T12:55:18.001466Z",
     "iopub.status.idle": "2021-11-27T12:55:18.007326Z",
     "shell.execute_reply": "2021-11-27T12:55:18.006679Z",
     "shell.execute_reply.started": "2021-11-27T12:55:18.001701Z"
    }
   },
   "outputs": [],
   "source": [
    "print(cm)"
   ]
  },
  {
   "cell_type": "code",
   "execution_count": null,
   "metadata": {
    "execution": {
     "iopub.execute_input": "2021-11-27T12:55:22.591211Z",
     "iopub.status.busy": "2021-11-27T12:55:22.590965Z",
     "iopub.status.idle": "2021-11-27T12:55:22.595608Z",
     "shell.execute_reply": "2021-11-27T12:55:22.594789Z",
     "shell.execute_reply.started": "2021-11-27T12:55:22.591183Z"
    }
   },
   "outputs": [],
   "source": [
    "print(ac)"
   ]
  },
  {
   "cell_type": "code",
   "execution_count": null,
   "metadata": {
    "execution": {
     "iopub.execute_input": "2021-11-27T13:34:07.109297Z",
     "iopub.status.busy": "2021-11-27T13:34:07.109012Z",
     "iopub.status.idle": "2021-11-27T13:34:07.186742Z",
     "shell.execute_reply": "2021-11-27T13:34:07.185808Z",
     "shell.execute_reply.started": "2021-11-27T13:34:07.109265Z"
    }
   },
   "outputs": [],
   "source": [
    "from sklearn import metrics\n",
    "from sklearn.naive_bayes import MultinomialNB\n",
    "model = MultinomialNB()\n",
    "model.fit(X_train,Y_train)\n",
    "Y_pred = model.predict(X_test)\n",
    "print(\"Accuracy: \"+str(accuracy_score(Y_test, Y_pred)))\n",
    "print('\\n')\n",
    "print(classification_report(Y_test, Y_pred))"
   ]
  },
  {
   "cell_type": "code",
   "execution_count": null,
   "metadata": {},
   "outputs": [],
   "source": [
    "from sklearn.ensemble import RandomForestClassifier\n",
    "from sklearn.model_selection import GridSearchCV\n",
    "rfc=RandomForestClassifier(random_state=42)\n",
    "param_grid = { \n",
    "     'n_estimators': [20, 50, 100, 200, 500, 1000],\n",
    "     'max_features': [None,'sqrt', 'log2'],\n",
    "     'max_depth' : [4,5,6],\n",
    "     'criterion' :['gini', 'entropy']\n",
    "}\n",
    "CV_rfc = GridSearchCV(estimator=rfc, param_grid=param_grid, refit = True, verbose = 3)\n",
    "CV_rfc.fit(X_train, Y_train)\n",
    "print(CV_rfc.best_params_)\n",
    "print(CV_rfc.best_estimator_)\n",
    "CV_rfc_pred = CV_rfc.predict(X_test)\n",
    "from sklearn.metrics import accuracy_score, confusion_matrix, precision_score, recall_score, roc_auc_score, roc_curve, f1_score\n",
    "print(classification_report(Y_test, CV_rfc_pred, digits=6))"
   ]
  },
  {
   "cell_type": "code",
   "execution_count": null,
   "metadata": {
    "execution": {
     "iopub.execute_input": "2021-11-27T12:26:27.486746Z",
     "iopub.status.busy": "2021-11-27T12:26:27.486437Z",
     "iopub.status.idle": "2021-11-27T12:54:05.76664Z",
     "shell.execute_reply": "2021-11-27T12:54:05.765797Z",
     "shell.execute_reply.started": "2021-11-27T12:26:27.486698Z"
    },
    "scrolled": false
   },
   "outputs": [],
   "source": [
    "clf = svm.SVC()\n",
    "clf.fit(X_train,Y_train)\n",
    "Y_pred = clf.predict(X_test)\n",
    "print(\"Accuracy: \"+str(accuracy_score(Y_test, Y_pred)))\n",
    "print('\\n')\n",
    "print(classification_report(Y_test, Y_pred))"
   ]
  },
  {
   "cell_type": "code",
   "execution_count": null,
   "metadata": {},
   "outputs": [],
   "source": [
    "from sklearn.ensemble import GradientBoostingClassifier\n",
    "from sklearn.model_selection import GridSearchCV\n",
    "gb=GradientBoostingClassifier(random_state=42)\n",
    "param_grid={'learning_rate': [0.01, 0.1, 0.2, 0.5, 1],\n",
    "            'n_estimators': [40, 45, 50, 55],\n",
    "           }\n",
    "CV_gb = GridSearchCV(estimator=gb, param_grid=param_grid, refit = True, verbose = 3, cv=3)\n",
    "CV_gb.fit(X_train, Y_train)\n",
    "print(CV_gb.best_params_)\n",
    "print(CV_gb.best_estimator_)\n",
    "CV_gb_pred = CV_gb.predict(X_test)\n",
    "print(classification_report(Y_test, CV_gb_pred, zero_division=1, digits=6))"
   ]
  }
 ],
 "metadata": {
  "kernelspec": {
   "display_name": "Python 3 (ipykernel)",
   "language": "python",
   "name": "python3"
  },
  "language_info": {
   "codemirror_mode": {
    "name": "ipython",
    "version": 3
   },
   "file_extension": ".py",
   "mimetype": "text/x-python",
   "name": "python",
   "nbconvert_exporter": "python",
   "pygments_lexer": "ipython3",
   "version": "3.9.13"
  }
 },
 "nbformat": 4,
 "nbformat_minor": 4
}
